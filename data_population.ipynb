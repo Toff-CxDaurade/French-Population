{
 "cells": [
  {
   "cell_type": "code",
   "execution_count": 80,
   "metadata": {},
   "outputs": [],
   "source": [
    "import pandas as pd\n",
    "import numpy as np\n",
    "import seaborn as sns\n",
    "import matplotlib.pyplot as plt"
   ]
  },
  {
   "cell_type": "code",
   "execution_count": 81,
   "metadata": {},
   "outputs": [
    {
     "data": {
      "text/html": [
       "<div>\n",
       "<style scoped>\n",
       "    .dataframe tbody tr th:only-of-type {\n",
       "        vertical-align: middle;\n",
       "    }\n",
       "\n",
       "    .dataframe tbody tr th {\n",
       "        vertical-align: top;\n",
       "    }\n",
       "\n",
       "    .dataframe thead th {\n",
       "        text-align: right;\n",
       "    }\n",
       "</style>\n",
       "<table border=\"1\" class=\"dataframe\">\n",
       "  <thead>\n",
       "    <tr style=\"text-align: right;\">\n",
       "      <th></th>\n",
       "      <th>Numéro</th>\n",
       "      <th>Département</th>\n",
       "      <th>Superficie</th>\n",
       "      <th>Population</th>\n",
       "      <th>Densité</th>\n",
       "    </tr>\n",
       "  </thead>\n",
       "  <tbody>\n",
       "    <tr>\n",
       "      <th>96</th>\n",
       "      <td>971</td>\n",
       "      <td>Guadeloupe</td>\n",
       "      <td>1 628</td>\n",
       "      <td>397 990</td>\n",
       "      <td>244.4</td>\n",
       "    </tr>\n",
       "    <tr>\n",
       "      <th>97</th>\n",
       "      <td>972</td>\n",
       "      <td>Martinique</td>\n",
       "      <td>1 128</td>\n",
       "      <td>380 877</td>\n",
       "      <td>337.7</td>\n",
       "    </tr>\n",
       "    <tr>\n",
       "      <th>98</th>\n",
       "      <td>973</td>\n",
       "      <td>Guyane</td>\n",
       "      <td>83 534</td>\n",
       "      <td>259 865</td>\n",
       "      <td>3.1</td>\n",
       "    </tr>\n",
       "    <tr>\n",
       "      <th>99</th>\n",
       "      <td>974</td>\n",
       "      <td>La Réunion</td>\n",
       "      <td>2 504</td>\n",
       "      <td>850 727</td>\n",
       "      <td>339.8</td>\n",
       "    </tr>\n",
       "    <tr>\n",
       "      <th>100</th>\n",
       "      <td>976</td>\n",
       "      <td>Mayotte</td>\n",
       "      <td>376.00</td>\n",
       "      <td>256 518</td>\n",
       "      <td>682.2</td>\n",
       "    </tr>\n",
       "  </tbody>\n",
       "</table>\n",
       "</div>"
      ],
      "text/plain": [
       "    Numéro Département Superficie Population  Densité\n",
       "96     971  Guadeloupe      1 628    397 990    244.4\n",
       "97     972  Martinique      1 128    380 877    337.7\n",
       "98     973      Guyane     83 534    259 865      3.1\n",
       "99     974  La Réunion      2 504    850 727    339.8\n",
       "100    976     Mayotte     376.00   256 518     682.2"
      ]
     },
     "execution_count": 81,
     "metadata": {},
     "output_type": "execute_result"
    }
   ],
   "source": [
    "df = pd.read_csv('departements.csv')\n",
    "df.tail()"
   ]
  },
  {
   "cell_type": "code",
   "execution_count": 82,
   "metadata": {},
   "outputs": [
    {
     "data": {
      "text/plain": [
       "Numéro          object\n",
       "Département     object\n",
       "Superficie      object\n",
       "Population      object\n",
       "Densité        float64\n",
       "dtype: object"
      ]
     },
     "execution_count": 82,
     "metadata": {},
     "output_type": "execute_result"
    }
   ],
   "source": [
    "df.dtypes"
   ]
  },
  {
   "cell_type": "code",
   "execution_count": 83,
   "metadata": {},
   "outputs": [
    {
     "data": {
      "text/html": [
       "<div>\n",
       "<style scoped>\n",
       "    .dataframe tbody tr th:only-of-type {\n",
       "        vertical-align: middle;\n",
       "    }\n",
       "\n",
       "    .dataframe tbody tr th {\n",
       "        vertical-align: top;\n",
       "    }\n",
       "\n",
       "    .dataframe thead th {\n",
       "        text-align: right;\n",
       "    }\n",
       "</style>\n",
       "<table border=\"1\" class=\"dataframe\">\n",
       "  <thead>\n",
       "    <tr style=\"text-align: right;\">\n",
       "      <th></th>\n",
       "      <th>Numéro</th>\n",
       "      <th>Département</th>\n",
       "      <th>Superficie</th>\n",
       "      <th>Population</th>\n",
       "      <th>Densité</th>\n",
       "    </tr>\n",
       "  </thead>\n",
       "  <tbody>\n",
       "    <tr>\n",
       "      <th>96</th>\n",
       "      <td>971</td>\n",
       "      <td>Guadeloupe</td>\n",
       "      <td>1628.0</td>\n",
       "      <td>397990</td>\n",
       "      <td>244.4</td>\n",
       "    </tr>\n",
       "    <tr>\n",
       "      <th>97</th>\n",
       "      <td>972</td>\n",
       "      <td>Martinique</td>\n",
       "      <td>1128.0</td>\n",
       "      <td>380877</td>\n",
       "      <td>337.7</td>\n",
       "    </tr>\n",
       "    <tr>\n",
       "      <th>98</th>\n",
       "      <td>973</td>\n",
       "      <td>Guyane</td>\n",
       "      <td>83534.0</td>\n",
       "      <td>259865</td>\n",
       "      <td>3.1</td>\n",
       "    </tr>\n",
       "    <tr>\n",
       "      <th>99</th>\n",
       "      <td>974</td>\n",
       "      <td>La Réunion</td>\n",
       "      <td>2504.0</td>\n",
       "      <td>850727</td>\n",
       "      <td>339.8</td>\n",
       "    </tr>\n",
       "    <tr>\n",
       "      <th>100</th>\n",
       "      <td>976</td>\n",
       "      <td>Mayotte</td>\n",
       "      <td>376.0</td>\n",
       "      <td>256518</td>\n",
       "      <td>682.2</td>\n",
       "    </tr>\n",
       "  </tbody>\n",
       "</table>\n",
       "</div>"
      ],
      "text/plain": [
       "    Numéro Département  Superficie  Population  Densité\n",
       "96     971  Guadeloupe      1628.0      397990    244.4\n",
       "97     972  Martinique      1128.0      380877    337.7\n",
       "98     973      Guyane     83534.0      259865      3.1\n",
       "99     974  La Réunion      2504.0      850727    339.8\n",
       "100    976     Mayotte       376.0      256518    682.2"
      ]
     },
     "execution_count": 83,
     "metadata": {},
     "output_type": "execute_result"
    }
   ],
   "source": [
    "df['Superficie'] = df['Superficie'].apply(lambda x: x.replace(' ', '')).astype('float')\n",
    "df['Population'] = df['Population'].apply(lambda x: x.replace(' ', '')).astype('int')\n",
    "df.tail()"
   ]
  },
  {
   "cell_type": "code",
   "execution_count": 84,
   "metadata": {},
   "outputs": [
    {
     "data": {
      "text/plain": [
       "Numéro          object\n",
       "Département     object\n",
       "Superficie     float64\n",
       "Population       int64\n",
       "Densité        float64\n",
       "dtype: object"
      ]
     },
     "execution_count": 84,
     "metadata": {},
     "output_type": "execute_result"
    }
   ],
   "source": [
    "df.dtypes"
   ]
  },
  {
   "cell_type": "code",
   "execution_count": 85,
   "metadata": {},
   "outputs": [
    {
     "data": {
      "text/html": [
       "<div>\n",
       "<style scoped>\n",
       "    .dataframe tbody tr th:only-of-type {\n",
       "        vertical-align: middle;\n",
       "    }\n",
       "\n",
       "    .dataframe tbody tr th {\n",
       "        vertical-align: top;\n",
       "    }\n",
       "\n",
       "    .dataframe thead th {\n",
       "        text-align: right;\n",
       "    }\n",
       "</style>\n",
       "<table border=\"1\" class=\"dataframe\">\n",
       "  <thead>\n",
       "    <tr style=\"text-align: right;\">\n",
       "      <th></th>\n",
       "      <th>Superficie</th>\n",
       "      <th>Population</th>\n",
       "      <th>Densité</th>\n",
       "    </tr>\n",
       "  </thead>\n",
       "  <tbody>\n",
       "    <tr>\n",
       "      <th>count</th>\n",
       "      <td>101.000000</td>\n",
       "      <td>1.010000e+02</td>\n",
       "      <td>101.000000</td>\n",
       "    </tr>\n",
       "    <tr>\n",
       "      <th>mean</th>\n",
       "      <td>6268.435644</td>\n",
       "      <td>6.578891e+05</td>\n",
       "      <td>551.934653</td>\n",
       "    </tr>\n",
       "    <tr>\n",
       "      <th>std</th>\n",
       "      <td>8033.080560</td>\n",
       "      <td>5.034570e+05</td>\n",
       "      <td>2391.346423</td>\n",
       "    </tr>\n",
       "    <tr>\n",
       "      <th>min</th>\n",
       "      <td>105.000000</td>\n",
       "      <td>7.630900e+04</td>\n",
       "      <td>3.100000</td>\n",
       "    </tr>\n",
       "    <tr>\n",
       "      <th>25%</th>\n",
       "      <td>4977.000000</td>\n",
       "      <td>2.866180e+05</td>\n",
       "      <td>51.200000</td>\n",
       "    </tr>\n",
       "    <tr>\n",
       "      <th>50%</th>\n",
       "      <td>5915.000000</td>\n",
       "      <td>5.331470e+05</td>\n",
       "      <td>87.000000</td>\n",
       "    </tr>\n",
       "    <tr>\n",
       "      <th>75%</th>\n",
       "      <td>6775.000000</td>\n",
       "      <td>8.215520e+05</td>\n",
       "      <td>175.600000</td>\n",
       "    </tr>\n",
       "    <tr>\n",
       "      <th>max</th>\n",
       "      <td>83534.000000</td>\n",
       "      <td>2.605238e+06</td>\n",
       "      <td>20934.400000</td>\n",
       "    </tr>\n",
       "  </tbody>\n",
       "</table>\n",
       "</div>"
      ],
      "text/plain": [
       "         Superficie    Population       Densité\n",
       "count    101.000000  1.010000e+02    101.000000\n",
       "mean    6268.435644  6.578891e+05    551.934653\n",
       "std     8033.080560  5.034570e+05   2391.346423\n",
       "min      105.000000  7.630900e+04      3.100000\n",
       "25%     4977.000000  2.866180e+05     51.200000\n",
       "50%     5915.000000  5.331470e+05     87.000000\n",
       "75%     6775.000000  8.215520e+05    175.600000\n",
       "max    83534.000000  2.605238e+06  20934.400000"
      ]
     },
     "execution_count": 85,
     "metadata": {},
     "output_type": "execute_result"
    }
   ],
   "source": [
    "df.describe()"
   ]
  },
  {
   "cell_type": "code",
   "execution_count": 86,
   "metadata": {},
   "outputs": [
    {
     "data": {
      "text/html": [
       "<div>\n",
       "<style scoped>\n",
       "    .dataframe tbody tr th:only-of-type {\n",
       "        vertical-align: middle;\n",
       "    }\n",
       "\n",
       "    .dataframe tbody tr th {\n",
       "        vertical-align: top;\n",
       "    }\n",
       "\n",
       "    .dataframe thead th {\n",
       "        text-align: right;\n",
       "    }\n",
       "</style>\n",
       "<table border=\"1\" class=\"dataframe\">\n",
       "  <thead>\n",
       "    <tr style=\"text-align: right;\">\n",
       "      <th></th>\n",
       "      <th>Numéro</th>\n",
       "      <th>Département</th>\n",
       "      <th>Superficie</th>\n",
       "      <th>Population</th>\n",
       "      <th>Densité</th>\n",
       "    </tr>\n",
       "  </thead>\n",
       "  <tbody>\n",
       "    <tr>\n",
       "      <th>75</th>\n",
       "      <td>75</td>\n",
       "      <td>Paris</td>\n",
       "      <td>105.0</td>\n",
       "      <td>2206488</td>\n",
       "      <td>20934.4</td>\n",
       "    </tr>\n",
       "  </tbody>\n",
       "</table>\n",
       "</div>"
      ],
      "text/plain": [
       "   Numéro Département  Superficie  Population  Densité\n",
       "75     75       Paris       105.0     2206488  20934.4"
      ]
     },
     "execution_count": 86,
     "metadata": {},
     "output_type": "execute_result"
    }
   ],
   "source": [
    "df[df['Densité']>10000]"
   ]
  },
  {
   "cell_type": "code",
   "execution_count": 87,
   "metadata": {},
   "outputs": [
    {
     "data": {
      "text/plain": [
       "array([  0,  10,  20,  30,  40,  50,  60,  70,  80,  90, 100, 110, 120,\n",
       "       130, 140, 150, 160, 170, 180, 190, 200, 210, 220, 230, 240, 250,\n",
       "       260, 270, 280, 290, 300, 310, 320, 330, 340, 350, 360, 370, 380,\n",
       "       390, 400, 410, 420, 430, 440, 450, 460, 470, 480, 490])"
      ]
     },
     "execution_count": 87,
     "metadata": {},
     "output_type": "execute_result"
    }
   ],
   "source": [
    "np.arange(0, 500, 10)"
   ]
  },
  {
   "cell_type": "code",
   "execution_count": 88,
   "metadata": {},
   "outputs": [
    {
     "data": {
      "text/plain": [
       "array([    0,    10,    20,    30,    40,    50,    60,    70,    80,\n",
       "          90,   100,   110,   120,   130,   140,   150,   160,   170,\n",
       "         180,   190,   200,   210,   220,   230,   240,   250,   260,\n",
       "         270,   280,   290,   300,   310,   320,   330,   340,   350,\n",
       "         360,   370,   380,   390,   400,   410,   420,   430,   440,\n",
       "         450,   460,   470,   480,   490,   500,  1000,  5000, 10000,\n",
       "       25000])"
      ]
     },
     "execution_count": 88,
     "metadata": {},
     "output_type": "execute_result"
    }
   ],
   "source": [
    "bins1 = np.append(np.arange(0, 501, 10), [1000, 5000, 10000, 25000])\n",
    "bins1"
   ]
  },
  {
   "cell_type": "code",
   "execution_count": 89,
   "metadata": {},
   "outputs": [],
   "source": [
    "bins2 = np.arange(0, 21001, 100)"
   ]
  },
  {
   "cell_type": "code",
   "execution_count": null,
   "metadata": {},
   "outputs": [],
   "source": []
  },
  {
   "cell_type": "code",
   "execution_count": 94,
   "metadata": {},
   "outputs": [
    {
     "data": {
      "text/html": [
       "<div>\n",
       "<style scoped>\n",
       "    .dataframe tbody tr th:only-of-type {\n",
       "        vertical-align: middle;\n",
       "    }\n",
       "\n",
       "    .dataframe tbody tr th {\n",
       "        vertical-align: top;\n",
       "    }\n",
       "\n",
       "    .dataframe thead th {\n",
       "        text-align: right;\n",
       "    }\n",
       "</style>\n",
       "<table border=\"1\" class=\"dataframe\">\n",
       "  <thead>\n",
       "    <tr style=\"text-align: right;\">\n",
       "      <th></th>\n",
       "      <th>Numéro</th>\n",
       "      <th>Département</th>\n",
       "      <th>Superficie</th>\n",
       "      <th>Population</th>\n",
       "      <th>Densité</th>\n",
       "      <th>dens_bins</th>\n",
       "    </tr>\n",
       "  </thead>\n",
       "  <tbody>\n",
       "    <tr>\n",
       "      <th>0</th>\n",
       "      <td>1</td>\n",
       "      <td>Ain</td>\n",
       "      <td>5762.0</td>\n",
       "      <td>631877</td>\n",
       "      <td>109.7</td>\n",
       "      <td>(100, 110]</td>\n",
       "    </tr>\n",
       "    <tr>\n",
       "      <th>1</th>\n",
       "      <td>2</td>\n",
       "      <td>Aisne</td>\n",
       "      <td>7369.0</td>\n",
       "      <td>538659</td>\n",
       "      <td>73.1</td>\n",
       "      <td>(70, 80]</td>\n",
       "    </tr>\n",
       "    <tr>\n",
       "      <th>2</th>\n",
       "      <td>3</td>\n",
       "      <td>Allier</td>\n",
       "      <td>7340.0</td>\n",
       "      <td>341613</td>\n",
       "      <td>46.5</td>\n",
       "      <td>(40, 50]</td>\n",
       "    </tr>\n",
       "    <tr>\n",
       "      <th>3</th>\n",
       "      <td>4</td>\n",
       "      <td>Alpes-de-Haute-Provence</td>\n",
       "      <td>6925.0</td>\n",
       "      <td>161799</td>\n",
       "      <td>23.4</td>\n",
       "      <td>(20, 30]</td>\n",
       "    </tr>\n",
       "    <tr>\n",
       "      <th>4</th>\n",
       "      <td>5</td>\n",
       "      <td>Hautes-Alpes</td>\n",
       "      <td>5549.0</td>\n",
       "      <td>140916</td>\n",
       "      <td>25.4</td>\n",
       "      <td>(20, 30]</td>\n",
       "    </tr>\n",
       "    <tr>\n",
       "      <th>...</th>\n",
       "      <td>...</td>\n",
       "      <td>...</td>\n",
       "      <td>...</td>\n",
       "      <td>...</td>\n",
       "      <td>...</td>\n",
       "      <td>...</td>\n",
       "    </tr>\n",
       "    <tr>\n",
       "      <th>96</th>\n",
       "      <td>971</td>\n",
       "      <td>Guadeloupe</td>\n",
       "      <td>1628.0</td>\n",
       "      <td>397990</td>\n",
       "      <td>244.4</td>\n",
       "      <td>(240, 250]</td>\n",
       "    </tr>\n",
       "    <tr>\n",
       "      <th>97</th>\n",
       "      <td>972</td>\n",
       "      <td>Martinique</td>\n",
       "      <td>1128.0</td>\n",
       "      <td>380877</td>\n",
       "      <td>337.7</td>\n",
       "      <td>(330, 340]</td>\n",
       "    </tr>\n",
       "    <tr>\n",
       "      <th>98</th>\n",
       "      <td>973</td>\n",
       "      <td>Guyane</td>\n",
       "      <td>83534.0</td>\n",
       "      <td>259865</td>\n",
       "      <td>3.1</td>\n",
       "      <td>(0, 10]</td>\n",
       "    </tr>\n",
       "    <tr>\n",
       "      <th>99</th>\n",
       "      <td>974</td>\n",
       "      <td>La Réunion</td>\n",
       "      <td>2504.0</td>\n",
       "      <td>850727</td>\n",
       "      <td>339.8</td>\n",
       "      <td>(330, 340]</td>\n",
       "    </tr>\n",
       "    <tr>\n",
       "      <th>100</th>\n",
       "      <td>976</td>\n",
       "      <td>Mayotte</td>\n",
       "      <td>376.0</td>\n",
       "      <td>256518</td>\n",
       "      <td>682.2</td>\n",
       "      <td>(500, 1000]</td>\n",
       "    </tr>\n",
       "  </tbody>\n",
       "</table>\n",
       "<p>101 rows × 6 columns</p>\n",
       "</div>"
      ],
      "text/plain": [
       "    Numéro              Département  Superficie  Population  Densité  \\\n",
       "0        1                      Ain      5762.0      631877    109.7   \n",
       "1        2                    Aisne      7369.0      538659     73.1   \n",
       "2        3                   Allier      7340.0      341613     46.5   \n",
       "3        4  Alpes-de-Haute-Provence      6925.0      161799     23.4   \n",
       "4        5             Hautes-Alpes      5549.0      140916     25.4   \n",
       "..     ...                      ...         ...         ...      ...   \n",
       "96     971               Guadeloupe      1628.0      397990    244.4   \n",
       "97     972               Martinique      1128.0      380877    337.7   \n",
       "98     973                   Guyane     83534.0      259865      3.1   \n",
       "99     974               La Réunion      2504.0      850727    339.8   \n",
       "100    976                  Mayotte       376.0      256518    682.2   \n",
       "\n",
       "       dens_bins  \n",
       "0     (100, 110]  \n",
       "1       (70, 80]  \n",
       "2       (40, 50]  \n",
       "3       (20, 30]  \n",
       "4       (20, 30]  \n",
       "..           ...  \n",
       "96    (240, 250]  \n",
       "97    (330, 340]  \n",
       "98       (0, 10]  \n",
       "99    (330, 340]  \n",
       "100  (500, 1000]  \n",
       "\n",
       "[101 rows x 6 columns]"
      ]
     },
     "execution_count": 94,
     "metadata": {},
     "output_type": "execute_result"
    }
   ],
   "source": [
    "df['dens_bins'] = pd.cut(x=df['Densité'], bins=bins1)\n",
    "df"
   ]
  },
  {
   "cell_type": "code",
   "execution_count": 95,
   "metadata": {},
   "outputs": [
    {
     "data": {
      "text/html": [
       "<div>\n",
       "<style scoped>\n",
       "    .dataframe tbody tr th:only-of-type {\n",
       "        vertical-align: middle;\n",
       "    }\n",
       "\n",
       "    .dataframe tbody tr th {\n",
       "        vertical-align: top;\n",
       "    }\n",
       "\n",
       "    .dataframe thead th {\n",
       "        text-align: right;\n",
       "    }\n",
       "</style>\n",
       "<table border=\"1\" class=\"dataframe\">\n",
       "  <thead>\n",
       "    <tr style=\"text-align: right;\">\n",
       "      <th></th>\n",
       "      <th>Population</th>\n",
       "    </tr>\n",
       "    <tr>\n",
       "      <th>dens_bins</th>\n",
       "      <th></th>\n",
       "    </tr>\n",
       "  </thead>\n",
       "  <tbody>\n",
       "    <tr>\n",
       "      <th>(0, 10]</th>\n",
       "      <td>259865</td>\n",
       "    </tr>\n",
       "    <tr>\n",
       "      <th>(10, 20]</th>\n",
       "      <td>76309</td>\n",
       "    </tr>\n",
       "    <tr>\n",
       "      <th>(20, 30]</th>\n",
       "      <td>748453</td>\n",
       "    </tr>\n",
       "    <tr>\n",
       "      <th>(30, 40]</th>\n",
       "      <td>1749856</td>\n",
       "    </tr>\n",
       "    <tr>\n",
       "      <th>(40, 50]</th>\n",
       "      <td>2803388</td>\n",
       "    </tr>\n",
       "  </tbody>\n",
       "</table>\n",
       "</div>"
      ],
      "text/plain": [
       "           Population\n",
       "dens_bins            \n",
       "(0, 10]        259865\n",
       "(10, 20]        76309\n",
       "(20, 30]       748453\n",
       "(30, 40]      1749856\n",
       "(40, 50]      2803388"
      ]
     },
     "execution_count": 95,
     "metadata": {},
     "output_type": "execute_result"
    }
   ],
   "source": [
    "df1 = df.loc[:, ['Population', 'dens_bins']].groupby(by='dens_bins').sum()\n",
    "df1.head()"
   ]
  },
  {
   "cell_type": "code",
   "execution_count": 96,
   "metadata": {},
   "outputs": [
    {
     "data": {
      "text/html": [
       "<div>\n",
       "<style scoped>\n",
       "    .dataframe tbody tr th:only-of-type {\n",
       "        vertical-align: middle;\n",
       "    }\n",
       "\n",
       "    .dataframe tbody tr th {\n",
       "        vertical-align: top;\n",
       "    }\n",
       "\n",
       "    .dataframe thead th {\n",
       "        text-align: right;\n",
       "    }\n",
       "</style>\n",
       "<table border=\"1\" class=\"dataframe\">\n",
       "  <thead>\n",
       "    <tr style=\"text-align: right;\">\n",
       "      <th></th>\n",
       "      <th>dens_bins</th>\n",
       "      <th>Population</th>\n",
       "    </tr>\n",
       "  </thead>\n",
       "  <tbody>\n",
       "    <tr>\n",
       "      <th>0</th>\n",
       "      <td>(0, 10]</td>\n",
       "      <td>259865</td>\n",
       "    </tr>\n",
       "    <tr>\n",
       "      <th>1</th>\n",
       "      <td>(10, 20]</td>\n",
       "      <td>76309</td>\n",
       "    </tr>\n",
       "    <tr>\n",
       "      <th>2</th>\n",
       "      <td>(20, 30]</td>\n",
       "      <td>748453</td>\n",
       "    </tr>\n",
       "    <tr>\n",
       "      <th>3</th>\n",
       "      <td>(30, 40]</td>\n",
       "      <td>1749856</td>\n",
       "    </tr>\n",
       "    <tr>\n",
       "      <th>4</th>\n",
       "      <td>(40, 50]</td>\n",
       "      <td>2803388</td>\n",
       "    </tr>\n",
       "  </tbody>\n",
       "</table>\n",
       "</div>"
      ],
      "text/plain": [
       "  dens_bins  Population\n",
       "0   (0, 10]      259865\n",
       "1  (10, 20]       76309\n",
       "2  (20, 30]      748453\n",
       "3  (30, 40]     1749856\n",
       "4  (40, 50]     2803388"
      ]
     },
     "execution_count": 96,
     "metadata": {},
     "output_type": "execute_result"
    }
   ],
   "source": [
    "df2 = df1.reset_index()\n",
    "df2.head()"
   ]
  },
  {
   "cell_type": "code",
   "execution_count": 98,
   "metadata": {},
   "outputs": [
    {
     "data": {
      "image/png": "[encoded data removed]",
      "text/plain": [
       "<Figure size 864x576 with 1 Axes>"
      ]
     },
     "metadata": {
      "needs_background": "light"
     },
     "output_type": "display_data"
    }
   ],
   "source": [
    "plt.figure(figsize=(12,8))\n",
    "g = sns.barplot(x='dens_bins', y='Population', data=df2)"
   ]
  },
  {
   "cell_type": "code",
   "execution_count": null,
   "metadata": {},
   "outputs": [],
   "source": []
  },
  {
   "cell_type": "code",
   "execution_count": null,
   "metadata": {},
   "outputs": [],
   "source": []
  },
  {
   "cell_type": "code",
   "execution_count": null,
   "metadata": {},
   "outputs": [],
   "source": []
  },
  {
   "cell_type": "code",
   "execution_count": null,
   "metadata": {},
   "outputs": [],
   "source": []
  },
  {
   "cell_type": "code",
   "execution_count": null,
   "metadata": {},
   "outputs": [],
   "source": []
  },
  {
   "cell_type": "code",
   "execution_count": null,
   "metadata": {},
   "outputs": [],
   "source": []
  },
  {
   "cell_type": "code",
   "execution_count": null,
   "metadata": {},
   "outputs": [],
   "source": []
  },
  {
   "cell_type": "code",
   "execution_count": null,
   "metadata": {},
   "outputs": [],
   "source": []
  },
  {
   "cell_type": "code",
   "execution_count": null,
   "metadata": {},
   "outputs": [],
   "source": []
  },
  {
   "cell_type": "code",
   "execution_count": null,
   "metadata": {},
   "outputs": [],
   "source": []
  },
  {
   "cell_type": "code",
   "execution_count": null,
   "metadata": {},
   "outputs": [],
   "source": []
  },
  {
   "cell_type": "code",
   "execution_count": null,
   "metadata": {},
   "outputs": [],
   "source": []
  },
  {
   "cell_type": "code",
   "execution_count": null,
   "metadata": {},
   "outputs": [],
   "source": []
  }
 ],
 "metadata": {
  "kernelspec": {
   "display_name": "Python 3",
   "language": "python",
   "name": "python3"
  },
  "language_info": {
   "codemirror_mode": {
    "name": "ipython",
    "version": 3
   },
   "file_extension": ".py",
   "mimetype": "text/x-python",
   "name": "python",
   "nbconvert_exporter": "python",
   "pygments_lexer": "ipython3",
   "version": "3.8.5"
  }
 },
 "nbformat": 4,
 "nbformat_minor": 4
}
